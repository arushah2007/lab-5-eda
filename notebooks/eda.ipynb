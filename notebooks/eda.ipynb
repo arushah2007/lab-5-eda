{
 "cells": [
  {
   "cell_type": "code",
   "execution_count": 25,
   "metadata": {},
   "outputs": [
    {
     "data": {
      "text/html": [
       "<div>\n",
       "<style scoped>\n",
       "    .dataframe tbody tr th:only-of-type {\n",
       "        vertical-align: middle;\n",
       "    }\n",
       "\n",
       "    .dataframe tbody tr th {\n",
       "        vertical-align: top;\n",
       "    }\n",
       "\n",
       "    .dataframe thead th {\n",
       "        text-align: right;\n",
       "    }\n",
       "</style>\n",
       "<table border=\"1\" class=\"dataframe\">\n",
       "  <thead>\n",
       "    <tr style=\"text-align: right;\">\n",
       "      <th></th>\n",
       "      <th>student_id</th>\n",
       "      <th>age</th>\n",
       "      <th>gpa</th>\n",
       "      <th>gender</th>\n",
       "      <th>major</th>\n",
       "      <th>year</th>\n",
       "    </tr>\n",
       "  </thead>\n",
       "  <tbody>\n",
       "    <tr>\n",
       "      <th>0</th>\n",
       "      <td>1</td>\n",
       "      <td>14</td>\n",
       "      <td>NaN</td>\n",
       "      <td>F</td>\n",
       "      <td>Economics</td>\n",
       "      <td>freshman</td>\n",
       "    </tr>\n",
       "    <tr>\n",
       "      <th>1</th>\n",
       "      <td>2</td>\n",
       "      <td>17</td>\n",
       "      <td>2.92</td>\n",
       "      <td>M</td>\n",
       "      <td>History</td>\n",
       "      <td>senior</td>\n",
       "    </tr>\n",
       "    <tr>\n",
       "      <th>2</th>\n",
       "      <td>3</td>\n",
       "      <td>17</td>\n",
       "      <td>2.97</td>\n",
       "      <td>F</td>\n",
       "      <td>Physics</td>\n",
       "      <td>senior</td>\n",
       "    </tr>\n",
       "    <tr>\n",
       "      <th>3</th>\n",
       "      <td>4</td>\n",
       "      <td>16</td>\n",
       "      <td>2.76</td>\n",
       "      <td>F</td>\n",
       "      <td>Physics</td>\n",
       "      <td>junior</td>\n",
       "    </tr>\n",
       "    <tr>\n",
       "      <th>4</th>\n",
       "      <td>5</td>\n",
       "      <td>16</td>\n",
       "      <td>2.24</td>\n",
       "      <td>M</td>\n",
       "      <td>Chemistry</td>\n",
       "      <td>junior</td>\n",
       "    </tr>\n",
       "  </tbody>\n",
       "</table>\n",
       "</div>"
      ],
      "text/plain": [
       "   student_id  age   gpa gender      major      year\n",
       "0           1   14   NaN      F  Economics  freshman\n",
       "1           2   17  2.92      M    History    senior\n",
       "2           3   17  2.97      F    Physics    senior\n",
       "3           4   16  2.76      F    Physics    junior\n",
       "4           5   16  2.24      M  Chemistry    junior"
      ]
     },
     "execution_count": 25,
     "metadata": {},
     "output_type": "execute_result"
    }
   ],
   "source": [
    "# Lab 5 | EDA & Visualisation.\n",
    "\n",
    "import pandas as pd\n",
    "df = pd.read_csv(\"/Users/arushshah/Downloads/lab-5-eda/data/students (1).csv\")\n",
    "df.head()"
   ]
  },
  {
   "cell_type": "code",
   "execution_count": 26,
   "metadata": {},
   "outputs": [
    {
     "name": "stdout",
     "output_type": "stream",
     "text": [
      "<class 'pandas.core.frame.DataFrame'>\n",
      "RangeIndex: 100 entries, 0 to 99\n",
      "Data columns (total 6 columns):\n",
      " #   Column      Non-Null Count  Dtype  \n",
      "---  ------      --------------  -----  \n",
      " 0   student_id  100 non-null    int64  \n",
      " 1   age         100 non-null    int64  \n",
      " 2   gpa         90 non-null     float64\n",
      " 3   gender      100 non-null    object \n",
      " 4   major       95 non-null     object \n",
      " 5   year        100 non-null    object \n",
      "dtypes: float64(1), int64(2), object(3)\n",
      "memory usage: 4.8+ KB\n"
     ]
    },
    {
     "data": {
      "text/plain": [
       "student_id     0\n",
       "age            0\n",
       "gpa           10\n",
       "gender         0\n",
       "major          5\n",
       "year           0\n",
       "dtype: int64"
      ]
     },
     "execution_count": 26,
     "metadata": {},
     "output_type": "execute_result"
    }
   ],
   "source": [
    "df.info()\n",
    "\n",
    "df.isna().sum()"
   ]
  },
  {
   "cell_type": "markdown",
   "metadata": {},
   "source": [
    "Which column has the most missing values and why might\n",
    "that be?\n",
    "\n",
    "gpa has the most missing values, maybe because it wasn't reported for every student"
   ]
  },
  {
   "cell_type": "code",
   "execution_count": 27,
   "metadata": {},
   "outputs": [
    {
     "name": "stdout",
     "output_type": "stream",
     "text": [
      "                age       gpa\n",
      "mean      16.130000  2.624667\n",
      "median    16.000000  2.665000\n",
      "variance   1.892020  0.227432\n",
      "std_dev    1.375507  0.476898\n",
      "min       14.000000  1.630000\n",
      "max       18.000000  3.930000\n"
     ]
    }
   ],
   "source": [
    "summary = pd.DataFrame({\n",
    "    \"age\": {\n",
    "        \"mean\": df[\"age\"].mean(),\n",
    "        \"median\": df[\"age\"].median(),\n",
    "        \"variance\": df[\"age\"].var(),\n",
    "        \"std_dev\": df[\"age\"].std(),\n",
    "        \"min\": df[\"age\"].min(),\n",
    "        \"max\": df[\"age\"].max(),\n",
    "    },\n",
    "    \"gpa\": {\n",
    "        \"mean\": df[\"gpa\"].mean(),\n",
    "        \"median\": df[\"gpa\"].median(),\n",
    "        \"variance\": df[\"gpa\"].var(),\n",
    "        \"std_dev\": df[\"gpa\"].std(),\n",
    "        \"min\": df[\"gpa\"].min(),\n",
    "        \"max\": df[\"gpa\"].max(),\n",
    "    }\n",
    "})\n",
    "\n",
    "print(summary)\n",
    "\n"
   ]
  },
  {
   "cell_type": "code",
   "execution_count": 28,
   "metadata": {},
   "outputs": [
    {
     "data": {
      "text/plain": [
       "<Axes: xlabel='gpa', ylabel='Count'>"
      ]
     },
     "execution_count": 28,
     "metadata": {},
     "output_type": "execute_result"
    },
    {
     "data": {
      "image/png": "[encoded data removed]",
      "text/plain": [
       "<Figure size 640x480 with 1 Axes>"
      ]
     },
     "metadata": {},
     "output_type": "display_data"
    }
   ],
   "source": [
    "df['age'].hist(bins=range(14, 19), align='left', rwidth=0.8)\n",
    "\n",
    "import seaborn as sns\n",
    "\n",
    "sns.histplot(df['gpa'], kde=True)"
   ]
  },
  {
   "cell_type": "markdown",
   "metadata": {},
   "source": [
    "the seaborn plot has a curve ploted over/around the histograms whereas the pandas one is just the bars"
   ]
  },
  {
   "cell_type": "code",
   "execution_count": 21,
   "metadata": {},
   "outputs": [
    {
     "data": {
      "image/png": "[encoded data removed]",
      "text/plain": [
       "<Figure size 640x480 with 1 Axes>"
      ]
     },
     "metadata": {},
     "output_type": "display_data"
    }
   ],
   "source": [
    "import matplotlib.pyplot as plt\n",
    "\n",
    "plt.scatter(df['age'], df['gpa'])\n",
    "plt.xlabel('Age')\n",
    "plt.ylabel('GPA')\n",
    "plt.title('Scatter Plot of Age vs. GPA')\n",
    "plt.show()\n"
   ]
  },
  {
   "cell_type": "code",
   "execution_count": 24,
   "metadata": {},
   "outputs": [
    {
     "name": "stderr",
     "output_type": "stream",
     "text": [
      "/var/folders/jt/p45yfdkx2nqcxbdvxb2j149w0000gn/T/ipykernel_80051/3510122124.py:5: FutureWarning: A value is trying to be set on a copy of a DataFrame or Series through chained assignment using an inplace method.\n",
      "The behavior will change in pandas 3.0. This inplace method will never work because the intermediate object on which we are setting values always behaves as a copy.\n",
      "\n",
      "For example, when doing 'df[col].method(value, inplace=True)', try using 'df.method({col: value}, inplace=True)' or df[col] = df[col].method(value) instead, to perform the operation inplace on the original object.\n",
      "\n",
      "\n",
      "  df[\"major\"].replace(\"\", pd.NA, inplace=True)\n"
     ]
    }
   ],
   "source": [
    "import pandas as pd \n",
    "\n",
    "df[\"major\"] = df[\"major\"].str.lower()\n",
    "df[\"major\"] = df[\"major\"].str.strip()\n",
    "df[\"major\"].replace(\"\", pd.NA, inplace=True)\n",
    "df.dropna(subset=[\"major\"], inplace=True)\n",
    "\n"
   ]
  },
  {
   "cell_type": "markdown",
   "metadata": {},
   "source": [
    "learned about pandas and data frames and functions I can do with it. How to make a data frame etc. I learned how to even graph the data in it which I know will be very useful in the future. I think the seaborn way of plotting the histogram is very interesting."
   ]
  }
 ],
 "metadata": {
  "kernelspec": {
   "display_name": "lab_5",
   "language": "python",
   "name": "python3"
  },
  "language_info": {
   "codemirror_mode": {
    "name": "ipython",
    "version": 3
   },
   "file_extension": ".py",
   "mimetype": "text/x-python",
   "name": "python",
   "nbconvert_exporter": "python",
   "pygments_lexer": "ipython3",
   "version": "3.13.5"
  }
 },
 "nbformat": 4,
 "nbformat_minor": 2
}
